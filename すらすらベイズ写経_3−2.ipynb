{
  "nbformat": 4,
  "nbformat_minor": 0,
  "metadata": {
    "colab": {
      "provenance": [],
      "authorship_tag": "ABX9TyNq9BltJjPqC4nak+t7ex+r",
      "include_colab_link": true
    },
    "kernelspec": {
      "name": "python3",
      "display_name": "Python 3"
    },
    "language_info": {
      "name": "python"
    }
  },
  "cells": [
    {
      "cell_type": "markdown",
      "metadata": {
        "id": "view-in-github",
        "colab_type": "text"
      },
      "source": [
        "<a href=\"https://colab.research.google.com/github/makkimaki/python-bayes-intro/blob/main/%E3%81%99%E3%82%89%E3%81%99%E3%82%89%E3%83%99%E3%82%A4%E3%82%BA%E5%86%99%E7%B5%8C_3%E2%88%922.ipynb\" target=\"_parent\"><img src=\"https://colab.research.google.com/assets/colab-badge.svg\" alt=\"Open In Colab\"/></a>"
      ]
    },
    {
      "cell_type": "markdown",
      "source": [
        "## ベイズ回帰モデル\n",
        "「予測」、「分析」が回帰分析の目的。この分析と相性が良い。影響度の大きな説明変数を見つけ出す方法で活用できるのがベイズ回帰モデル。\n",
        "\n",
        "### 問題設定\n",
        "- データセット: LSL-DR (Listening and Spoken Language Data Repository)\n",
        "- 音声言語の発達に影響を与える要因を調査するデータを収集している。\n",
        "- pymc公式チュートリアルに似た分析例あり。hierarchical regularized horseshoe(おそらく、事前分布にstudent-t分布を用いて正則化している？）\n",
        "\n"
      ],
      "metadata": {
        "id": "63URPN77oAG1"
      }
    },
    {
      "cell_type": "code",
      "source": [
        "!pip install japanize-matplotlib\n",
        "!pip install seaborn==0.11"
      ],
      "metadata": {
        "id": "eAG8I7hZoAP8"
      },
      "execution_count": null,
      "outputs": []
    },
    {
      "cell_type": "code",
      "source": [
        "import numpy as np\n",
        "import matplotlib.pyplot as plt\n",
        "import japanize_matplotlib\n",
        "import pandas as pd\n",
        "# from IPython.display import display\n",
        "import seaborn as sns\n",
        "import pymc as pm\n",
        "import arviz as az\n",
        "\n",
        "print(f\"{pm.__version__=}\")\n",
        "print(f\"{sns.__version__=}\")\n",
        "print(f\"{np.__version__=}\")\n",
        "np.set_printoptions(precision=3, floatmode=\"fixed\")\n",
        "plt.rcParams[\"font.size\"] = 8\n",
        "plt.rcParams[\"figure.figsize\"] = (3, 3)\n",
        "plt.rcParams[\"axes.grid\"] = True\n",
        "# pd.options.display.float_format = \"[:.3f]\".format\n",
        "pd.set_option(\"display.max_columns\", None)"
      ],
      "metadata": {
        "id": "2WhfRDxIoCzW"
      },
      "execution_count": null,
      "outputs": []
    }
  ]
}